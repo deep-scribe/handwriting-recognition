{
 "cells": [
  {
   "cell_type": "code",
   "execution_count": 9,
   "metadata": {},
   "outputs": [],
   "source": [
    "import torch\n",
    "# import keras\n",
    "import torch.nn as nn\n",
    "import torch.nn.functional as F\n",
    "import torch.optim as optim\n",
    "import data_loader\n",
    "import autoencoder as ae"
   ]
  },
  {
   "cell_type": "code",
   "execution_count": 10,
   "metadata": {},
   "outputs": [
    {
     "data": {
      "text/plain": [
       "False"
      ]
     },
     "execution_count": 10,
     "metadata": {},
     "output_type": "execute_result"
    }
   ],
   "source": [
    "torch.cuda.is_available()"
   ]
  },
  {
   "cell_type": "code",
   "execution_count": 11,
   "metadata": {},
   "outputs": [
    {
     "name": "stdout",
     "output_type": "stream",
     "text": [
      "Processing albert\n",
      "Processing canon_12_5\n",
      "Processing chen\n",
      "Processing daniel\n",
      "Processing isa_12_5\n",
      "Processing joanne\n",
      "Processing jq_12_6\n",
      "Processing kelly_11_7\n",
      "Processing kevin_11_7\n",
      "Processing ruocheng\n",
      "Processing russell_11_20_stand\n",
      "Processing russell_random_12_7\n",
      "Processing solomon\n",
      "Processing yiheng_11_30\n",
      "Processing yiheng_12_5\n",
      "Processing yongxu_11_30\n",
      "Processing zhaoye\n",
      "Processing wenzhou_12_5\n",
      "Processing haobin_11_22\n",
      "Processing janet\n",
      "Processing russell_11_7\n",
      "Splitting out test set\n",
      "Splitting out dev and train set\n"
     ]
    }
   ],
   "source": [
    "trainx, devx, testx, trainy, devy, testy = data_loader.load_all_classic_random_split(flatten=False)"
   ]
  },
  {
   "cell_type": "code",
   "execution_count": 12,
   "metadata": {},
   "outputs": [
    {
     "name": "stdout",
     "output_type": "stream",
     "text": [
      "Augmenting TRAIN set with proportion 3\n",
      "(33280, 100, 3) (1040, 100, 3) (1041, 100, 3) (33280,) (1040,) (1041,)\n"
     ]
    }
   ],
   "source": [
    "trainx, trainy = data_loader.augment_train_set(trainx, trainy, augment_prop=3, is_flattened=False)\n",
    "print(trainx.shape, devx.shape, testx.shape, trainy.shape, devy.shape, testy.shape)"
   ]
  },
  {
   "cell_type": "code",
   "execution_count": 13,
   "metadata": {},
   "outputs": [
    {
     "name": "stdout",
     "output_type": "stream",
     "text": [
      "Train on 33280 samples\n",
      "Epoch 1/10\n",
      "33280/33280 [==============================] - 2s 55us/sample - loss: 0.0040\n",
      "Epoch 2/10\n",
      "33280/33280 [==============================] - 1s 36us/sample - loss: 0.0016\n",
      "Epoch 3/10\n",
      "33280/33280 [==============================] - 1s 35us/sample - loss: 0.0015\n",
      "Epoch 4/10\n",
      "33280/33280 [==============================] - 1s 35us/sample - loss: 0.0014\n",
      "Epoch 5/10\n",
      "33280/33280 [==============================] - 1s 36us/sample - loss: 0.0014\n",
      "Epoch 6/10\n",
      "33280/33280 [==============================] - 1s 35us/sample - loss: 0.0014\n",
      "Epoch 7/10\n",
      "33280/33280 [==============================] - 1s 36us/sample - loss: 0.0013\n",
      "Epoch 8/10\n",
      "33280/33280 [==============================] - 1s 35us/sample - loss: 0.0013\n",
      "Epoch 9/10\n",
      "33280/33280 [==============================] - 1s 35us/sample - loss: 0.0013\n",
      "Epoch 10/10\n",
      "33280/33280 [==============================] - 1s 35us/sample - loss: 0.0013\n",
      "Train on 33280 samples\n",
      "Epoch 1/10\n",
      "33280/33280 [==============================] - 1s 43us/sample - loss: 8.5781e-04\n",
      "Epoch 2/10\n",
      "33280/33280 [==============================] - 1s 36us/sample - loss: 1.7156e-04\n",
      "Epoch 3/10\n",
      "33280/33280 [==============================] - 1s 36us/sample - loss: 1.1203e-04\n",
      "Epoch 4/10\n",
      "33280/33280 [==============================] - 1s 36us/sample - loss: 8.7570e-05\n",
      "Epoch 5/10\n",
      "33280/33280 [==============================] - 1s 36us/sample - loss: 7.7415e-05\n",
      "Epoch 6/10\n",
      "33280/33280 [==============================] - 1s 36us/sample - loss: 7.0072e-05\n",
      "Epoch 7/10\n",
      "33280/33280 [==============================] - 1s 36us/sample - loss: 6.5034e-05\n",
      "Epoch 8/10\n",
      "33280/33280 [==============================] - 1s 38us/sample - loss: 6.1462e-05\n",
      "Epoch 9/10\n",
      "33280/33280 [==============================] - 1s 37us/sample - loss: 5.6471e-05\n",
      "Epoch 10/10\n",
      "33280/33280 [==============================] - 1s 38us/sample - loss: 5.2309e-05\n",
      "Train on 33280 samples\n",
      "Epoch 1/10\n",
      "33280/33280 [==============================] - 2s 48us/sample - loss: 8.7931e-04\n",
      "Epoch 2/10\n",
      "33280/33280 [==============================] - 1s 38us/sample - loss: 1.7320e-04\n",
      "Epoch 3/10\n",
      "33280/33280 [==============================] - 1s 38us/sample - loss: 1.1931e-04\n",
      "Epoch 4/10\n",
      "33280/33280 [==============================] - 1s 41us/sample - loss: 1.0516e-04\n",
      "Epoch 5/10\n",
      "33280/33280 [==============================] - 1s 38us/sample - loss: 9.0068e-05\n",
      "Epoch 6/10\n",
      "33280/33280 [==============================] - 1s 38us/sample - loss: 8.1145e-05\n",
      "Epoch 7/10\n",
      "33280/33280 [==============================] - 1s 40us/sample - loss: 7.1857e-05\n",
      "Epoch 8/10\n",
      "33280/33280 [==============================] - 1s 39us/sample - loss: 6.2708e-05\n",
      "Epoch 9/10\n",
      "33280/33280 [==============================] - 1s 38us/sample - loss: 5.6584e-05\n",
      "Epoch 10/10\n",
      "33280/33280 [==============================] - 1s 39us/sample - loss: 5.3104e-05\n",
      "Train on 1040 samples\n",
      "Epoch 1/10\n",
      "1040/1040 [==============================] - 0s 410us/sample - loss: 0.0166\n",
      "Epoch 2/10\n",
      "1040/1040 [==============================] - 0s 49us/sample - loss: 0.0126\n",
      "Epoch 3/10\n",
      "1040/1040 [==============================] - 0s 51us/sample - loss: 0.0094\n",
      "Epoch 4/10\n",
      "1040/1040 [==============================] - 0s 47us/sample - loss: 0.0052\n",
      "Epoch 5/10\n",
      "1040/1040 [==============================] - 0s 45us/sample - loss: 0.0030\n",
      "Epoch 6/10\n",
      "1040/1040 [==============================] - 0s 44us/sample - loss: 0.0023\n",
      "Epoch 7/10\n",
      "1040/1040 [==============================] - 0s 44us/sample - loss: 0.0018\n",
      "Epoch 8/10\n",
      "1040/1040 [==============================] - 0s 52us/sample - loss: 0.0016\n",
      "Epoch 9/10\n",
      "1040/1040 [==============================] - 0s 53us/sample - loss: 0.0015\n",
      "Epoch 10/10\n",
      "1040/1040 [==============================] - 0s 54us/sample - loss: 0.0014\n",
      "Train on 1040 samples\n",
      "Epoch 1/10\n",
      "1040/1040 [==============================] - 1s 500us/sample - loss: 0.0029\n",
      "Epoch 2/10\n",
      "1040/1040 [==============================] - 0s 50us/sample - loss: 0.0026\n",
      "Epoch 3/10\n",
      "1040/1040 [==============================] - 0s 49us/sample - loss: 0.0023\n",
      "Epoch 4/10\n",
      "1040/1040 [==============================] - 0s 50us/sample - loss: 0.0018\n",
      "Epoch 5/10\n",
      "1040/1040 [==============================] - 0s 41us/sample - loss: 0.0016\n",
      "Epoch 6/10\n",
      "1040/1040 [==============================] - 0s 38us/sample - loss: 0.0013\n",
      "Epoch 7/10\n",
      "1040/1040 [==============================] - 0s 38us/sample - loss: 0.0012\n",
      "Epoch 8/10\n",
      "1040/1040 [==============================] - 0s 46us/sample - loss: 0.0012\n",
      "Epoch 9/10\n",
      "1040/1040 [==============================] - 0s 48us/sample - loss: 9.2246e-04\n",
      "Epoch 10/10\n",
      "1040/1040 [==============================] - 0s 45us/sample - loss: 8.2045e-04\n",
      "Train on 1040 samples\n",
      "Epoch 1/10\n",
      "1040/1040 [==============================] - 0s 389us/sample - loss: 0.0028\n",
      "Epoch 2/10\n",
      "1040/1040 [==============================] - 0s 53us/sample - loss: 0.0025\n",
      "Epoch 3/10\n",
      "1040/1040 [==============================] - 0s 48us/sample - loss: 0.0022\n",
      "Epoch 4/10\n",
      "1040/1040 [==============================] - 0s 45us/sample - loss: 0.0017\n",
      "Epoch 5/10\n",
      "1040/1040 [==============================] - 0s 49us/sample - loss: 0.0014\n",
      "Epoch 6/10\n",
      "1040/1040 [==============================] - 0s 45us/sample - loss: 0.0013\n",
      "Epoch 7/10\n",
      "1040/1040 [==============================] - 0s 45us/sample - loss: 0.0011\n",
      "Epoch 8/10\n",
      "1040/1040 [==============================] - 0s 48us/sample - loss: 0.0010\n",
      "Epoch 9/10\n",
      "1040/1040 [==============================] - 0s 50us/sample - loss: 9.3688e-04\n",
      "Epoch 10/10\n",
      "1040/1040 [==============================] - 0s 50us/sample - loss: 9.4635e-04\n",
      "Train on 1041 samples\n",
      "Epoch 1/10\n",
      "1041/1041 [==============================] - 0s 387us/sample - loss: 0.0168\n",
      "Epoch 2/10\n",
      "1041/1041 [==============================] - 0s 49us/sample - loss: 0.0132\n",
      "Epoch 3/10\n",
      "1041/1041 [==============================] - 0s 50us/sample - loss: 0.0116\n",
      "Epoch 4/10\n",
      "1041/1041 [==============================] - 0s 50us/sample - loss: 0.0086\n",
      "Epoch 5/10\n",
      "1041/1041 [==============================] - 0s 48us/sample - loss: 0.0058\n",
      "Epoch 6/10\n",
      "1041/1041 [==============================] - 0s 46us/sample - loss: 0.0039\n",
      "Epoch 7/10\n",
      "1041/1041 [==============================] - 0s 46us/sample - loss: 0.0026\n",
      "Epoch 8/10\n",
      "1041/1041 [==============================] - 0s 47us/sample - loss: 0.0021\n",
      "Epoch 9/10\n",
      "1041/1041 [==============================] - 0s 49us/sample - loss: 0.0019\n",
      "Epoch 10/10\n",
      "1041/1041 [==============================] - 0s 47us/sample - loss: 0.0017\n",
      "Train on 1041 samples\n",
      "Epoch 1/10\n",
      "1041/1041 [==============================] - 0s 355us/sample - loss: 0.0031\n",
      "Epoch 2/10\n",
      "1041/1041 [==============================] - 0s 55us/sample - loss: 0.0028\n",
      "Epoch 3/10\n",
      "1041/1041 [==============================] - 0s 46us/sample - loss: 0.0025\n",
      "Epoch 4/10\n",
      "1041/1041 [==============================] - 0s 44us/sample - loss: 0.0021\n",
      "Epoch 5/10\n",
      "1041/1041 [==============================] - 0s 43us/sample - loss: 0.0015\n",
      "Epoch 6/10\n",
      "1041/1041 [==============================] - 0s 47us/sample - loss: 0.0013\n",
      "Epoch 7/10\n",
      "1041/1041 [==============================] - 0s 54us/sample - loss: 0.0012\n",
      "Epoch 8/10\n",
      "1041/1041 [==============================] - 0s 45us/sample - loss: 0.0012\n",
      "Epoch 9/10\n",
      "1041/1041 [==============================] - 0s 43us/sample - loss: 0.0012\n",
      "Epoch 10/10\n",
      "1041/1041 [==============================] - 0s 43us/sample - loss: 0.0010\n",
      "Train on 1041 samples\n",
      "Epoch 1/10\n",
      "1041/1041 [==============================] - 0s 380us/sample - loss: 0.0029\n",
      "Epoch 2/10\n",
      "1041/1041 [==============================] - 0s 50us/sample - loss: 0.0026\n",
      "Epoch 3/10\n",
      "1041/1041 [==============================] - 0s 49us/sample - loss: 0.0022\n",
      "Epoch 4/10\n",
      "1041/1041 [==============================] - 0s 45us/sample - loss: 0.0017\n",
      "Epoch 5/10\n",
      "1041/1041 [==============================] - 0s 47us/sample - loss: 0.0014\n",
      "Epoch 6/10\n",
      "1041/1041 [==============================] - 0s 49us/sample - loss: 0.0014\n",
      "Epoch 7/10\n",
      "1041/1041 [==============================] - 0s 49us/sample - loss: 0.0012\n",
      "Epoch 8/10\n",
      "1041/1041 [==============================] - 0s 46us/sample - loss: 0.0011\n",
      "Epoch 9/10\n",
      "1041/1041 [==============================] - 0s 46us/sample - loss: 9.0449e-04\n",
      "Epoch 10/10\n",
      "1041/1041 [==============================] - 0s 49us/sample - loss: 8.3074e-04\n"
     ]
    },
    {
     "ename": "AttributeError",
     "evalue": "'tuple' object has no attribute 'shape'",
     "output_type": "error",
     "traceback": [
      "\u001b[0;31m---------------------------------------------------------------------------\u001b[0m",
      "\u001b[0;31mAttributeError\u001b[0m                            Traceback (most recent call last)",
      "\u001b[0;32m<ipython-input-13-ec6ebbdf31fe>\u001b[0m in \u001b[0;36m<module>\u001b[0;34m\u001b[0m\n\u001b[1;32m      2\u001b[0m \u001b[0mdevx\u001b[0m \u001b[0;34m=\u001b[0m \u001b[0mae\u001b[0m\u001b[0;34m.\u001b[0m\u001b[0mae_denoise\u001b[0m\u001b[0;34m(\u001b[0m\u001b[0mdevx\u001b[0m\u001b[0;34m[\u001b[0m\u001b[0;34m:\u001b[0m\u001b[0;34m,\u001b[0m\u001b[0;34m:\u001b[0m\u001b[0;34m,\u001b[0m\u001b[0;36m0\u001b[0m\u001b[0;34m]\u001b[0m\u001b[0;34m,\u001b[0m \u001b[0mdevx\u001b[0m\u001b[0;34m[\u001b[0m\u001b[0;34m:\u001b[0m\u001b[0;34m,\u001b[0m\u001b[0;34m:\u001b[0m\u001b[0;34m,\u001b[0m\u001b[0;36m1\u001b[0m\u001b[0;34m]\u001b[0m\u001b[0;34m,\u001b[0m \u001b[0mdevx\u001b[0m\u001b[0;34m[\u001b[0m\u001b[0;34m:\u001b[0m\u001b[0;34m,\u001b[0m\u001b[0;34m:\u001b[0m\u001b[0;34m,\u001b[0m\u001b[0;36m2\u001b[0m\u001b[0;34m]\u001b[0m\u001b[0;34m)\u001b[0m\u001b[0;34m\u001b[0m\u001b[0;34m\u001b[0m\u001b[0m\n\u001b[1;32m      3\u001b[0m \u001b[0mtestx\u001b[0m \u001b[0;34m=\u001b[0m \u001b[0mae\u001b[0m\u001b[0;34m.\u001b[0m\u001b[0mae_denoise\u001b[0m\u001b[0;34m(\u001b[0m\u001b[0mtestx\u001b[0m\u001b[0;34m[\u001b[0m\u001b[0;34m:\u001b[0m\u001b[0;34m,\u001b[0m\u001b[0;34m:\u001b[0m\u001b[0;34m,\u001b[0m\u001b[0;36m0\u001b[0m\u001b[0;34m]\u001b[0m\u001b[0;34m,\u001b[0m \u001b[0mtestx\u001b[0m\u001b[0;34m[\u001b[0m\u001b[0;34m:\u001b[0m\u001b[0;34m,\u001b[0m\u001b[0;34m:\u001b[0m\u001b[0;34m,\u001b[0m\u001b[0;36m1\u001b[0m\u001b[0;34m]\u001b[0m\u001b[0;34m,\u001b[0m \u001b[0mtestx\u001b[0m\u001b[0;34m[\u001b[0m\u001b[0;34m:\u001b[0m\u001b[0;34m,\u001b[0m\u001b[0;34m:\u001b[0m\u001b[0;34m,\u001b[0m\u001b[0;36m2\u001b[0m\u001b[0;34m]\u001b[0m\u001b[0;34m)\u001b[0m\u001b[0;34m\u001b[0m\u001b[0;34m\u001b[0m\u001b[0m\n\u001b[0;32m----> 4\u001b[0;31m \u001b[0mprint\u001b[0m\u001b[0;34m(\u001b[0m\u001b[0mtrainx\u001b[0m\u001b[0;34m.\u001b[0m\u001b[0mshape\u001b[0m\u001b[0;34m,\u001b[0m \u001b[0mdevx\u001b[0m\u001b[0;34m.\u001b[0m\u001b[0mshape\u001b[0m\u001b[0;34m,\u001b[0m \u001b[0mtestx\u001b[0m\u001b[0;34m.\u001b[0m\u001b[0mshape\u001b[0m\u001b[0;34m,\u001b[0m \u001b[0mtrainy\u001b[0m\u001b[0;34m.\u001b[0m\u001b[0mshape\u001b[0m\u001b[0;34m,\u001b[0m \u001b[0mdevy\u001b[0m\u001b[0;34m.\u001b[0m\u001b[0mshape\u001b[0m\u001b[0;34m,\u001b[0m \u001b[0mtesty\u001b[0m\u001b[0;34m.\u001b[0m\u001b[0mshape\u001b[0m\u001b[0;34m)\u001b[0m\u001b[0;34m\u001b[0m\u001b[0;34m\u001b[0m\u001b[0m\n\u001b[0m",
      "\u001b[0;31mAttributeError\u001b[0m: 'tuple' object has no attribute 'shape'"
     ]
    }
   ],
   "source": [
    "trainx = ae.ae_denoise(trainx[:,:,0], trainx[:,:,1], trainx[:,:,2])\n",
    "devx = ae.ae_denoise(devx[:,:,0], devx[:,:,1], devx[:,:,2])\n",
    "testx = ae.ae_denoise(testx[:,:,0], testx[:,:,1], testx[:,:,2])\n",
    "print(trainx.shape, devx.shape, testx.shape, trainy.shape, devy.shape, testy.shape)"
   ]
  },
  {
   "cell_type": "code",
   "execution_count": 14,
   "metadata": {},
   "outputs": [
    {
     "ename": "IndexError",
     "evalue": "tuple index out of range",
     "output_type": "error",
     "traceback": [
      "\u001b[0;31m---------------------------------------------------------------------------\u001b[0m",
      "\u001b[0;31mIndexError\u001b[0m                                Traceback (most recent call last)",
      "\u001b[0;32m<ipython-input-14-a3eb75aaeff8>\u001b[0m in \u001b[0;36m<module>\u001b[0;34m\u001b[0m\n\u001b[1;32m      6\u001b[0m     \u001b[0;32mreturn\u001b[0m \u001b[0mdataloader\u001b[0m\u001b[0;34m\u001b[0m\u001b[0;34m\u001b[0m\u001b[0m\n\u001b[1;32m      7\u001b[0m \u001b[0;34m\u001b[0m\u001b[0m\n\u001b[0;32m----> 8\u001b[0;31m \u001b[0mtrainloader\u001b[0m \u001b[0;34m=\u001b[0m \u001b[0mget_dataloader\u001b[0m\u001b[0;34m(\u001b[0m\u001b[0mtrainx\u001b[0m\u001b[0;34m,\u001b[0m \u001b[0mtrainy\u001b[0m\u001b[0;34m,\u001b[0m \u001b[0mBATCH_SIZE\u001b[0m\u001b[0;34m)\u001b[0m\u001b[0;34m\u001b[0m\u001b[0;34m\u001b[0m\u001b[0m\n\u001b[0m\u001b[1;32m      9\u001b[0m \u001b[0mdevloader\u001b[0m \u001b[0;34m=\u001b[0m \u001b[0mget_dataloader\u001b[0m\u001b[0;34m(\u001b[0m\u001b[0mdevx\u001b[0m\u001b[0;34m,\u001b[0m \u001b[0mdevy\u001b[0m\u001b[0;34m,\u001b[0m \u001b[0mBATCH_SIZE\u001b[0m\u001b[0;34m)\u001b[0m\u001b[0;34m\u001b[0m\u001b[0;34m\u001b[0m\u001b[0m\n\u001b[1;32m     10\u001b[0m \u001b[0mtestloader\u001b[0m \u001b[0;34m=\u001b[0m \u001b[0mget_dataloader\u001b[0m\u001b[0;34m(\u001b[0m\u001b[0mtestx\u001b[0m\u001b[0;34m,\u001b[0m \u001b[0mtesty\u001b[0m\u001b[0;34m,\u001b[0m \u001b[0mBATCH_SIZE\u001b[0m\u001b[0;34m)\u001b[0m\u001b[0;34m\u001b[0m\u001b[0;34m\u001b[0m\u001b[0m\n",
      "\u001b[0;32m<ipython-input-14-a3eb75aaeff8>\u001b[0m in \u001b[0;36mget_dataloader\u001b[0;34m(x, y, batch_size)\u001b[0m\n\u001b[1;32m      2\u001b[0m \u001b[0;34m\u001b[0m\u001b[0m\n\u001b[1;32m      3\u001b[0m \u001b[0;32mdef\u001b[0m \u001b[0mget_dataloader\u001b[0m\u001b[0;34m(\u001b[0m\u001b[0mx\u001b[0m\u001b[0;34m,\u001b[0m \u001b[0my\u001b[0m\u001b[0;34m,\u001b[0m \u001b[0mbatch_size\u001b[0m\u001b[0;34m)\u001b[0m\u001b[0;34m:\u001b[0m\u001b[0;34m\u001b[0m\u001b[0;34m\u001b[0m\u001b[0m\n\u001b[0;32m----> 4\u001b[0;31m     \u001b[0mdataset\u001b[0m \u001b[0;34m=\u001b[0m \u001b[0;34m[\u001b[0m\u001b[0;34m(\u001b[0m\u001b[0mx\u001b[0m\u001b[0;34m[\u001b[0m\u001b[0mi\u001b[0m\u001b[0;34m]\u001b[0m\u001b[0;34m.\u001b[0m\u001b[0mT\u001b[0m\u001b[0;34m,\u001b[0m \u001b[0my\u001b[0m\u001b[0;34m[\u001b[0m\u001b[0mi\u001b[0m\u001b[0;34m]\u001b[0m\u001b[0;34m)\u001b[0m \u001b[0;32mfor\u001b[0m \u001b[0mi\u001b[0m \u001b[0;32min\u001b[0m \u001b[0mrange\u001b[0m\u001b[0;34m(\u001b[0m\u001b[0my\u001b[0m\u001b[0;34m.\u001b[0m\u001b[0mshape\u001b[0m\u001b[0;34m[\u001b[0m\u001b[0;36m0\u001b[0m\u001b[0;34m]\u001b[0m\u001b[0;34m)\u001b[0m\u001b[0;34m]\u001b[0m\u001b[0;34m\u001b[0m\u001b[0;34m\u001b[0m\u001b[0m\n\u001b[0m\u001b[1;32m      5\u001b[0m     \u001b[0mdataloader\u001b[0m \u001b[0;34m=\u001b[0m \u001b[0mtorch\u001b[0m\u001b[0;34m.\u001b[0m\u001b[0mutils\u001b[0m\u001b[0;34m.\u001b[0m\u001b[0mdata\u001b[0m\u001b[0;34m.\u001b[0m\u001b[0mDataLoader\u001b[0m\u001b[0;34m(\u001b[0m\u001b[0mdataset\u001b[0m\u001b[0;34m,\u001b[0m \u001b[0mbatch_size\u001b[0m\u001b[0;34m=\u001b[0m\u001b[0mbatch_size\u001b[0m\u001b[0;34m,\u001b[0m \u001b[0mshuffle\u001b[0m\u001b[0;34m=\u001b[0m\u001b[0;32mTrue\u001b[0m\u001b[0;34m)\u001b[0m\u001b[0;34m\u001b[0m\u001b[0;34m\u001b[0m\u001b[0m\n\u001b[1;32m      6\u001b[0m     \u001b[0;32mreturn\u001b[0m \u001b[0mdataloader\u001b[0m\u001b[0;34m\u001b[0m\u001b[0;34m\u001b[0m\u001b[0m\n",
      "\u001b[0;32m<ipython-input-14-a3eb75aaeff8>\u001b[0m in \u001b[0;36m<listcomp>\u001b[0;34m(.0)\u001b[0m\n\u001b[1;32m      2\u001b[0m \u001b[0;34m\u001b[0m\u001b[0m\n\u001b[1;32m      3\u001b[0m \u001b[0;32mdef\u001b[0m \u001b[0mget_dataloader\u001b[0m\u001b[0;34m(\u001b[0m\u001b[0mx\u001b[0m\u001b[0;34m,\u001b[0m \u001b[0my\u001b[0m\u001b[0;34m,\u001b[0m \u001b[0mbatch_size\u001b[0m\u001b[0;34m)\u001b[0m\u001b[0;34m:\u001b[0m\u001b[0;34m\u001b[0m\u001b[0;34m\u001b[0m\u001b[0m\n\u001b[0;32m----> 4\u001b[0;31m     \u001b[0mdataset\u001b[0m \u001b[0;34m=\u001b[0m \u001b[0;34m[\u001b[0m\u001b[0;34m(\u001b[0m\u001b[0mx\u001b[0m\u001b[0;34m[\u001b[0m\u001b[0mi\u001b[0m\u001b[0;34m]\u001b[0m\u001b[0;34m.\u001b[0m\u001b[0mT\u001b[0m\u001b[0;34m,\u001b[0m \u001b[0my\u001b[0m\u001b[0;34m[\u001b[0m\u001b[0mi\u001b[0m\u001b[0;34m]\u001b[0m\u001b[0;34m)\u001b[0m \u001b[0;32mfor\u001b[0m \u001b[0mi\u001b[0m \u001b[0;32min\u001b[0m \u001b[0mrange\u001b[0m\u001b[0;34m(\u001b[0m\u001b[0my\u001b[0m\u001b[0;34m.\u001b[0m\u001b[0mshape\u001b[0m\u001b[0;34m[\u001b[0m\u001b[0;36m0\u001b[0m\u001b[0;34m]\u001b[0m\u001b[0;34m)\u001b[0m\u001b[0;34m]\u001b[0m\u001b[0;34m\u001b[0m\u001b[0;34m\u001b[0m\u001b[0m\n\u001b[0m\u001b[1;32m      5\u001b[0m     \u001b[0mdataloader\u001b[0m \u001b[0;34m=\u001b[0m \u001b[0mtorch\u001b[0m\u001b[0;34m.\u001b[0m\u001b[0mutils\u001b[0m\u001b[0;34m.\u001b[0m\u001b[0mdata\u001b[0m\u001b[0;34m.\u001b[0m\u001b[0mDataLoader\u001b[0m\u001b[0;34m(\u001b[0m\u001b[0mdataset\u001b[0m\u001b[0;34m,\u001b[0m \u001b[0mbatch_size\u001b[0m\u001b[0;34m=\u001b[0m\u001b[0mbatch_size\u001b[0m\u001b[0;34m,\u001b[0m \u001b[0mshuffle\u001b[0m\u001b[0;34m=\u001b[0m\u001b[0;32mTrue\u001b[0m\u001b[0;34m)\u001b[0m\u001b[0;34m\u001b[0m\u001b[0;34m\u001b[0m\u001b[0m\n\u001b[1;32m      6\u001b[0m     \u001b[0;32mreturn\u001b[0m \u001b[0mdataloader\u001b[0m\u001b[0;34m\u001b[0m\u001b[0;34m\u001b[0m\u001b[0m\n",
      "\u001b[0;31mIndexError\u001b[0m: tuple index out of range"
     ]
    }
   ],
   "source": [
    "BATCH_SIZE = 500\n",
    "\n",
    "def get_dataloader(x, y, batch_size):\n",
    "    dataset = [(x[i].T, y[i]) for i in range(y.shape[0])]\n",
    "    dataloader = torch.utils.data.DataLoader(dataset, batch_size=batch_size, shuffle=True)\n",
    "    return dataloader\n",
    "\n",
    "trainloader = get_dataloader(trainx, trainy, BATCH_SIZE)\n",
    "devloader = get_dataloader(devx, devy, BATCH_SIZE)\n",
    "testloader = get_dataloader(testx, testy, BATCH_SIZE)"
   ]
  },
  {
   "cell_type": "code",
   "execution_count": 5,
   "metadata": {},
   "outputs": [
    {
     "name": "stdout",
     "output_type": "stream",
     "text": [
      "8320 100 3\n"
     ]
    }
   ],
   "source": [
    "sample_size, num_feature, num_channel = trainx.shape\n",
    "print(sample_size, num_feature, num_channel)"
   ]
  },
  {
   "cell_type": "code",
   "execution_count": 6,
   "metadata": {},
   "outputs": [],
   "source": [
    "def acc(data_loader):\n",
    "    correct = 0\n",
    "    total = 0\n",
    "    with torch.no_grad():\n",
    "        for data in data_loader:\n",
    "            x, y = data\n",
    "            if torch.cuda.is_available():\n",
    "                x = x.cuda()\n",
    "                y = y.cuda()\n",
    "\n",
    "            outputs = net(x.float())\n",
    "            _, predicted = torch.max(outputs.data, 1)\n",
    "\n",
    "            w = torch.sum((predicted - y) != 0).item()\n",
    "            r = len(y) - w\n",
    "            correct += r\n",
    "            total += len(y)\n",
    "    return correct / total"
   ]
  },
  {
   "cell_type": "code",
   "execution_count": 7,
   "metadata": {},
   "outputs": [],
   "source": [
    "class Net(nn.Module):\n",
    "    def __init__(self, input_dim, hidden_dim, n_layers):\n",
    "        super(Net, self).__init__()\n",
    "        self.input_dim = input_dim\n",
    "        self.hidden_dim = hidden_dim\n",
    "        self.n_layers = n_layers\n",
    "        self.lstm = nn.LSTM(input_dim, hidden_dim, n_layers, batch_first=True)\n",
    "        self.fc = nn.Linear(hidden_dim, 26, bias = True)\n",
    "\n",
    "    def forward(self, x):\n",
    "        init_h = torch.randn(self.n_layers, x.shape[0], self.hidden_dim).cuda()\n",
    "        init_c = torch.randn(self.n_layers, x.shape[0], self.hidden_dim).cuda()\n",
    "        x = x.permute(0, 2, 1)\n",
    "        out, _ = self.lstm(x, (init_h, init_c))\n",
    "        # print(\"inter: \", out.shape)\n",
    "        out = self.fc(out[:,-1,:])\n",
    "        # print(\"out: \", out.shape)\n",
    "        return out\n",
    "\n",
    "net = Net(num_channel, 100, 5)\n",
    "if torch.cuda.is_available():\n",
    "    net.cuda()"
   ]
  },
  {
   "cell_type": "code",
   "execution_count": 8,
   "metadata": {},
   "outputs": [
    {
     "name": "stdout",
     "output_type": "stream",
     "text": [
      "0."
     ]
    },
    {
     "ename": "AssertionError",
     "evalue": "Torch not compiled with CUDA enabled",
     "output_type": "error",
     "traceback": [
      "\u001b[0;31m---------------------------------------------------------------------------\u001b[0m",
      "\u001b[0;31mAssertionError\u001b[0m                            Traceback (most recent call last)",
      "\u001b[0;32m<ipython-input-8-8e9a6701b92f>\u001b[0m in \u001b[0;36m<module>\u001b[0;34m\u001b[0m\n\u001b[1;32m     19\u001b[0m         \u001b[0;31m# forward + backward + optimize\u001b[0m\u001b[0;34m\u001b[0m\u001b[0;34m\u001b[0m\u001b[0;34m\u001b[0m\u001b[0m\n\u001b[1;32m     20\u001b[0m \u001b[0;34m\u001b[0m\u001b[0m\n\u001b[0;32m---> 21\u001b[0;31m         \u001b[0moutputs\u001b[0m \u001b[0;34m=\u001b[0m \u001b[0mnet\u001b[0m\u001b[0;34m(\u001b[0m\u001b[0minputs\u001b[0m\u001b[0;34m.\u001b[0m\u001b[0mfloat\u001b[0m\u001b[0;34m(\u001b[0m\u001b[0;34m)\u001b[0m\u001b[0;34m)\u001b[0m\u001b[0;34m\u001b[0m\u001b[0;34m\u001b[0m\u001b[0m\n\u001b[0m\u001b[1;32m     22\u001b[0m         \u001b[0mloss\u001b[0m \u001b[0;34m=\u001b[0m \u001b[0mcriterion\u001b[0m\u001b[0;34m(\u001b[0m\u001b[0moutputs\u001b[0m\u001b[0;34m,\u001b[0m \u001b[0mlabels\u001b[0m\u001b[0;34m.\u001b[0m\u001b[0mlong\u001b[0m\u001b[0;34m(\u001b[0m\u001b[0;34m)\u001b[0m\u001b[0;34m)\u001b[0m\u001b[0;34m\u001b[0m\u001b[0;34m\u001b[0m\u001b[0m\n\u001b[1;32m     23\u001b[0m         \u001b[0mloss\u001b[0m\u001b[0;34m.\u001b[0m\u001b[0mbackward\u001b[0m\u001b[0;34m(\u001b[0m\u001b[0;34m)\u001b[0m\u001b[0;34m\u001b[0m\u001b[0;34m\u001b[0m\u001b[0m\n",
      "\u001b[0;32m~/opt/anaconda3/lib/python3.7/site-packages/torch/nn/modules/module.py\u001b[0m in \u001b[0;36m__call__\u001b[0;34m(self, *input, **kwargs)\u001b[0m\n\u001b[1;32m    530\u001b[0m             \u001b[0mresult\u001b[0m \u001b[0;34m=\u001b[0m \u001b[0mself\u001b[0m\u001b[0;34m.\u001b[0m\u001b[0m_slow_forward\u001b[0m\u001b[0;34m(\u001b[0m\u001b[0;34m*\u001b[0m\u001b[0minput\u001b[0m\u001b[0;34m,\u001b[0m \u001b[0;34m**\u001b[0m\u001b[0mkwargs\u001b[0m\u001b[0;34m)\u001b[0m\u001b[0;34m\u001b[0m\u001b[0;34m\u001b[0m\u001b[0m\n\u001b[1;32m    531\u001b[0m         \u001b[0;32melse\u001b[0m\u001b[0;34m:\u001b[0m\u001b[0;34m\u001b[0m\u001b[0;34m\u001b[0m\u001b[0m\n\u001b[0;32m--> 532\u001b[0;31m             \u001b[0mresult\u001b[0m \u001b[0;34m=\u001b[0m \u001b[0mself\u001b[0m\u001b[0;34m.\u001b[0m\u001b[0mforward\u001b[0m\u001b[0;34m(\u001b[0m\u001b[0;34m*\u001b[0m\u001b[0minput\u001b[0m\u001b[0;34m,\u001b[0m \u001b[0;34m**\u001b[0m\u001b[0mkwargs\u001b[0m\u001b[0;34m)\u001b[0m\u001b[0;34m\u001b[0m\u001b[0;34m\u001b[0m\u001b[0m\n\u001b[0m\u001b[1;32m    533\u001b[0m         \u001b[0;32mfor\u001b[0m \u001b[0mhook\u001b[0m \u001b[0;32min\u001b[0m \u001b[0mself\u001b[0m\u001b[0;34m.\u001b[0m\u001b[0m_forward_hooks\u001b[0m\u001b[0;34m.\u001b[0m\u001b[0mvalues\u001b[0m\u001b[0;34m(\u001b[0m\u001b[0;34m)\u001b[0m\u001b[0;34m:\u001b[0m\u001b[0;34m\u001b[0m\u001b[0;34m\u001b[0m\u001b[0m\n\u001b[1;32m    534\u001b[0m             \u001b[0mhook_result\u001b[0m \u001b[0;34m=\u001b[0m \u001b[0mhook\u001b[0m\u001b[0;34m(\u001b[0m\u001b[0mself\u001b[0m\u001b[0;34m,\u001b[0m \u001b[0minput\u001b[0m\u001b[0;34m,\u001b[0m \u001b[0mresult\u001b[0m\u001b[0;34m)\u001b[0m\u001b[0;34m\u001b[0m\u001b[0;34m\u001b[0m\u001b[0m\n",
      "\u001b[0;32m<ipython-input-7-6b333d68ad89>\u001b[0m in \u001b[0;36mforward\u001b[0;34m(self, x)\u001b[0m\n\u001b[1;32m      9\u001b[0m \u001b[0;34m\u001b[0m\u001b[0m\n\u001b[1;32m     10\u001b[0m     \u001b[0;32mdef\u001b[0m \u001b[0mforward\u001b[0m\u001b[0;34m(\u001b[0m\u001b[0mself\u001b[0m\u001b[0;34m,\u001b[0m \u001b[0mx\u001b[0m\u001b[0;34m)\u001b[0m\u001b[0;34m:\u001b[0m\u001b[0;34m\u001b[0m\u001b[0;34m\u001b[0m\u001b[0m\n\u001b[0;32m---> 11\u001b[0;31m         \u001b[0minit_h\u001b[0m \u001b[0;34m=\u001b[0m \u001b[0mtorch\u001b[0m\u001b[0;34m.\u001b[0m\u001b[0mrandn\u001b[0m\u001b[0;34m(\u001b[0m\u001b[0mself\u001b[0m\u001b[0;34m.\u001b[0m\u001b[0mn_layers\u001b[0m\u001b[0;34m,\u001b[0m \u001b[0mx\u001b[0m\u001b[0;34m.\u001b[0m\u001b[0mshape\u001b[0m\u001b[0;34m[\u001b[0m\u001b[0;36m0\u001b[0m\u001b[0;34m]\u001b[0m\u001b[0;34m,\u001b[0m \u001b[0mself\u001b[0m\u001b[0;34m.\u001b[0m\u001b[0mhidden_dim\u001b[0m\u001b[0;34m)\u001b[0m\u001b[0;34m.\u001b[0m\u001b[0mcuda\u001b[0m\u001b[0;34m(\u001b[0m\u001b[0;34m)\u001b[0m\u001b[0;34m\u001b[0m\u001b[0;34m\u001b[0m\u001b[0m\n\u001b[0m\u001b[1;32m     12\u001b[0m         \u001b[0minit_c\u001b[0m \u001b[0;34m=\u001b[0m \u001b[0mtorch\u001b[0m\u001b[0;34m.\u001b[0m\u001b[0mrandn\u001b[0m\u001b[0;34m(\u001b[0m\u001b[0mself\u001b[0m\u001b[0;34m.\u001b[0m\u001b[0mn_layers\u001b[0m\u001b[0;34m,\u001b[0m \u001b[0mx\u001b[0m\u001b[0;34m.\u001b[0m\u001b[0mshape\u001b[0m\u001b[0;34m[\u001b[0m\u001b[0;36m0\u001b[0m\u001b[0;34m]\u001b[0m\u001b[0;34m,\u001b[0m \u001b[0mself\u001b[0m\u001b[0;34m.\u001b[0m\u001b[0mhidden_dim\u001b[0m\u001b[0;34m)\u001b[0m\u001b[0;34m.\u001b[0m\u001b[0mcuda\u001b[0m\u001b[0;34m(\u001b[0m\u001b[0;34m)\u001b[0m\u001b[0;34m\u001b[0m\u001b[0;34m\u001b[0m\u001b[0m\n\u001b[1;32m     13\u001b[0m         \u001b[0mx\u001b[0m \u001b[0;34m=\u001b[0m \u001b[0mx\u001b[0m\u001b[0;34m.\u001b[0m\u001b[0mpermute\u001b[0m\u001b[0;34m(\u001b[0m\u001b[0;36m0\u001b[0m\u001b[0;34m,\u001b[0m \u001b[0;36m2\u001b[0m\u001b[0;34m,\u001b[0m \u001b[0;36m1\u001b[0m\u001b[0;34m)\u001b[0m\u001b[0;34m\u001b[0m\u001b[0;34m\u001b[0m\u001b[0m\n",
      "\u001b[0;32m~/opt/anaconda3/lib/python3.7/site-packages/torch/cuda/__init__.py\u001b[0m in \u001b[0;36m_lazy_init\u001b[0;34m()\u001b[0m\n\u001b[1;32m    194\u001b[0m             raise RuntimeError(\n\u001b[1;32m    195\u001b[0m                 \"Cannot re-initialize CUDA in forked subprocess. \" + msg)\n\u001b[0;32m--> 196\u001b[0;31m         \u001b[0m_check_driver\u001b[0m\u001b[0;34m(\u001b[0m\u001b[0;34m)\u001b[0m\u001b[0;34m\u001b[0m\u001b[0;34m\u001b[0m\u001b[0m\n\u001b[0m\u001b[1;32m    197\u001b[0m         \u001b[0mtorch\u001b[0m\u001b[0;34m.\u001b[0m\u001b[0m_C\u001b[0m\u001b[0;34m.\u001b[0m\u001b[0m_cuda_init\u001b[0m\u001b[0;34m(\u001b[0m\u001b[0;34m)\u001b[0m\u001b[0;34m\u001b[0m\u001b[0;34m\u001b[0m\u001b[0m\n\u001b[1;32m    198\u001b[0m         \u001b[0m_cudart\u001b[0m \u001b[0;34m=\u001b[0m \u001b[0m_load_cudart\u001b[0m\u001b[0;34m(\u001b[0m\u001b[0;34m)\u001b[0m\u001b[0;34m\u001b[0m\u001b[0;34m\u001b[0m\u001b[0m\n",
      "\u001b[0;32m~/opt/anaconda3/lib/python3.7/site-packages/torch/cuda/__init__.py\u001b[0m in \u001b[0;36m_check_driver\u001b[0;34m()\u001b[0m\n\u001b[1;32m     92\u001b[0m \u001b[0;32mdef\u001b[0m \u001b[0m_check_driver\u001b[0m\u001b[0;34m(\u001b[0m\u001b[0;34m)\u001b[0m\u001b[0;34m:\u001b[0m\u001b[0;34m\u001b[0m\u001b[0;34m\u001b[0m\u001b[0m\n\u001b[1;32m     93\u001b[0m     \u001b[0;32mif\u001b[0m \u001b[0;32mnot\u001b[0m \u001b[0mhasattr\u001b[0m\u001b[0;34m(\u001b[0m\u001b[0mtorch\u001b[0m\u001b[0;34m.\u001b[0m\u001b[0m_C\u001b[0m\u001b[0;34m,\u001b[0m \u001b[0;34m'_cuda_isDriverSufficient'\u001b[0m\u001b[0;34m)\u001b[0m\u001b[0;34m:\u001b[0m\u001b[0;34m\u001b[0m\u001b[0;34m\u001b[0m\u001b[0m\n\u001b[0;32m---> 94\u001b[0;31m         \u001b[0;32mraise\u001b[0m \u001b[0mAssertionError\u001b[0m\u001b[0;34m(\u001b[0m\u001b[0;34m\"Torch not compiled with CUDA enabled\"\u001b[0m\u001b[0;34m)\u001b[0m\u001b[0;34m\u001b[0m\u001b[0;34m\u001b[0m\u001b[0m\n\u001b[0m\u001b[1;32m     95\u001b[0m     \u001b[0;32mif\u001b[0m \u001b[0;32mnot\u001b[0m \u001b[0mtorch\u001b[0m\u001b[0;34m.\u001b[0m\u001b[0m_C\u001b[0m\u001b[0;34m.\u001b[0m\u001b[0m_cuda_isDriverSufficient\u001b[0m\u001b[0;34m(\u001b[0m\u001b[0;34m)\u001b[0m\u001b[0;34m:\u001b[0m\u001b[0;34m\u001b[0m\u001b[0;34m\u001b[0m\u001b[0m\n\u001b[1;32m     96\u001b[0m         \u001b[0;32mif\u001b[0m \u001b[0mtorch\u001b[0m\u001b[0;34m.\u001b[0m\u001b[0m_C\u001b[0m\u001b[0;34m.\u001b[0m\u001b[0m_cuda_getDriverVersion\u001b[0m\u001b[0;34m(\u001b[0m\u001b[0;34m)\u001b[0m \u001b[0;34m==\u001b[0m \u001b[0;36m0\u001b[0m\u001b[0;34m:\u001b[0m\u001b[0;34m\u001b[0m\u001b[0;34m\u001b[0m\u001b[0m\n",
      "\u001b[0;31mAssertionError\u001b[0m: Torch not compiled with CUDA enabled"
     ]
    }
   ],
   "source": [
    "criterion = nn.CrossEntropyLoss()\n",
    "# optimizer = optim.SGD(net.parameters(), lr=0.00001, momentum=0.9)\n",
    "optimizer = optim.Adam(net.parameters(), lr=0.0001)\n",
    "\n",
    "for epoch in range(500):  # loop over the dataset multiple times\n",
    "    running_loss = 0.0\n",
    "    for i, data in enumerate(trainloader):\n",
    "        print(f'{i if i%20==0 else \"\"}.', end='')\n",
    "\n",
    "        # get the inputs; data is a list of [inputs, labels]\n",
    "        inputs, labels = data\n",
    "        if torch.cuda.is_available():\n",
    "            inputs = inputs.cuda()\n",
    "            labels = labels.cuda()\n",
    "\n",
    "        # zero the parameter gradients\n",
    "        optimizer.zero_grad()\n",
    "\n",
    "        # forward + backward + optimize\n",
    "\n",
    "        outputs = net(inputs.float())\n",
    "        loss = criterion(outputs, labels.long())\n",
    "        loss.backward()\n",
    "        optimizer.step()\n",
    "\n",
    "    trainacc = acc(trainloader)\n",
    "    devacc = acc(devloader)\n",
    "\n",
    "    print('')\n",
    "    print(f'Epoch {epoch} trainacc={trainacc} devacc={devacc}')\n",
    "\n",
    "print('Finished Training')"
   ]
  },
  {
   "cell_type": "code",
   "execution_count": null,
   "metadata": {},
   "outputs": [],
   "source": [
    "print(acc(testloader))"
   ]
  }
 ],
 "metadata": {
  "kernelspec": {
   "display_name": "Python 3",
   "language": "python",
   "name": "python3"
  },
  "language_info": {
   "codemirror_mode": {
    "name": "ipython",
    "version": 3
   },
   "file_extension": ".py",
   "mimetype": "text/x-python",
   "name": "python",
   "nbconvert_exporter": "python",
   "pygments_lexer": "ipython3",
   "version": "3.7.4"
  }
 },
 "nbformat": 4,
 "nbformat_minor": 2
}
